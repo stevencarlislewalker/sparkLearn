{
 "cells": [
  {
   "cell_type": "code",
   "execution_count": 1,
   "metadata": {
    "collapsed": true
   },
   "outputs": [],
   "source": [
    "import numpy as np\n",
    "import pandas as pd"
   ]
  },
  {
   "cell_type": "code",
   "execution_count": 2,
   "metadata": {
    "collapsed": false
   },
   "outputs": [],
   "source": [
    "# run a sample down the tree and populate its word\n",
    "# alphabet is a list of 2-tuples of function. tuple[0]() returns\n",
    "# a left element split, tuple[1]() returns a right element split\n",
    "# depth distance down the tree (root is at depth 1)\n",
    "# prob_left probability that word will be categorized as zero\n",
    "# acc accumulated word\n",
    "# size total depth of the tree\n",
    "def treePerSample(alphabet, depth, prob_left, acc, size):\n",
    "    p = np.random.random()\n",
    "    \n",
    "    if (depth == size): \n",
    "        if (p < prob_left): return (acc,0)\n",
    "        else: return (acc,1)\n",
    "    else:\n",
    "        letter = alphabet[0]\n",
    "        remain = alphabet[1:]\n",
    "        if (p<0.5): \n",
    "            return treePerSample(remain, depth+1, \n",
    "                                 prob_left + (0.5)**(depth+1), \n",
    "                                 acc + [letter[0]()], size)\n",
    "        else:\n",
    "            return treePerSample(remain, \n",
    "                                 depth+1, \n",
    "                                 prob_left - (0.5)**(depth+1), \n",
    "                                 acc + [letter[1]()], size)\n",
    "\n",
    "# use treePerSample to generate a decision tree data set\n",
    "# population number of samples\n",
    "# size total depth of tree\n",
    "import string\n",
    "def generateTreePerSample(population, size):\n",
    "    ls = []\n",
    "    def a(alph,n):\n",
    "        def t(): return (alph + str(n))\n",
    "        return t\n",
    "        \n",
    "    alphabet = [(a('a',n), a('b',n)) \n",
    "                for n in range(0, size//2)] \n",
    "    \n",
    "    def randomBelow(cutOff):\n",
    "        def t(): return np.random.uniform(0, cutOff)\n",
    "        return t\n",
    "    def randomAbove(cutOff):\n",
    "        def t(): return np.random.uniform(cutOff, 2*cutOff)\n",
    "        return t\n",
    "    numeric = [(randomBelow(n), randomAbove(n)) \n",
    "               for n in range(1, size//2)]\n",
    "    \n",
    "    for _ in range(0, population):\n",
    "           ls.append(treePerSample(alphabet+numeric, 1, 0.5, [], size))\n",
    "    return ls\n",
    "\n",
    "# build a data frame for decision tree samples\n",
    "def main(population, size):\n",
    "    tree = generateTreePerSample(population, size)\n",
    "    df = pd.DataFrame([t[0] for t in tree], \n",
    "                  columns = ['f' + str(x) for x in range(0, len(tree[0][0]))])\n",
    "    df[\"label\"] = [t[1] for t in tree] \n",
    "    return df"
   ]
  },
  {
   "cell_type": "code",
   "execution_count": 3,
   "metadata": {
    "collapsed": false
   },
   "outputs": [],
   "source": [
    "df = main(10000, 10)\n",
    "df.to_csv(\"../data/smallRandomCatTree.csv\", index=False)"
   ]
  },
  {
   "cell_type": "code",
   "execution_count": 4,
   "metadata": {
    "collapsed": false
   },
   "outputs": [
    {
     "data": {
      "text/html": [
       "<div>\n",
       "<table border=\"1\" class=\"dataframe\">\n",
       "  <thead>\n",
       "    <tr style=\"text-align: right;\">\n",
       "      <th></th>\n",
       "      <th>f0</th>\n",
       "      <th>f1</th>\n",
       "      <th>f2</th>\n",
       "      <th>f3</th>\n",
       "      <th>f4</th>\n",
       "      <th>f5</th>\n",
       "      <th>f6</th>\n",
       "      <th>f7</th>\n",
       "      <th>f8</th>\n",
       "      <th>label</th>\n",
       "    </tr>\n",
       "  </thead>\n",
       "  <tbody>\n",
       "    <tr>\n",
       "      <th>0</th>\n",
       "      <td>b0</td>\n",
       "      <td>b1</td>\n",
       "      <td>a2</td>\n",
       "      <td>b3</td>\n",
       "      <td>b4</td>\n",
       "      <td>0.052854</td>\n",
       "      <td>2.434473</td>\n",
       "      <td>3.478266</td>\n",
       "      <td>1.487640</td>\n",
       "      <td>1</td>\n",
       "    </tr>\n",
       "    <tr>\n",
       "      <th>1</th>\n",
       "      <td>a0</td>\n",
       "      <td>b1</td>\n",
       "      <td>a2</td>\n",
       "      <td>b3</td>\n",
       "      <td>a4</td>\n",
       "      <td>0.574877</td>\n",
       "      <td>0.160051</td>\n",
       "      <td>3.426829</td>\n",
       "      <td>5.641662</td>\n",
       "      <td>0</td>\n",
       "    </tr>\n",
       "    <tr>\n",
       "      <th>2</th>\n",
       "      <td>b0</td>\n",
       "      <td>a1</td>\n",
       "      <td>a2</td>\n",
       "      <td>a3</td>\n",
       "      <td>b4</td>\n",
       "      <td>0.980134</td>\n",
       "      <td>0.752439</td>\n",
       "      <td>3.729060</td>\n",
       "      <td>3.030402</td>\n",
       "      <td>0</td>\n",
       "    </tr>\n",
       "    <tr>\n",
       "      <th>3</th>\n",
       "      <td>a0</td>\n",
       "      <td>b1</td>\n",
       "      <td>b2</td>\n",
       "      <td>b3</td>\n",
       "      <td>b4</td>\n",
       "      <td>0.785974</td>\n",
       "      <td>3.495204</td>\n",
       "      <td>2.229013</td>\n",
       "      <td>2.792165</td>\n",
       "      <td>0</td>\n",
       "    </tr>\n",
       "    <tr>\n",
       "      <th>4</th>\n",
       "      <td>b0</td>\n",
       "      <td>a1</td>\n",
       "      <td>b2</td>\n",
       "      <td>a3</td>\n",
       "      <td>a4</td>\n",
       "      <td>0.486634</td>\n",
       "      <td>3.712954</td>\n",
       "      <td>2.377462</td>\n",
       "      <td>5.639110</td>\n",
       "      <td>0</td>\n",
       "    </tr>\n",
       "  </tbody>\n",
       "</table>\n",
       "</div>"
      ],
      "text/plain": [
       "   f0  f1  f2  f3  f4        f5        f6        f7        f8  label\n",
       "0  b0  b1  a2  b3  b4  0.052854  2.434473  3.478266  1.487640      1\n",
       "1  a0  b1  a2  b3  a4  0.574877  0.160051  3.426829  5.641662      0\n",
       "2  b0  a1  a2  a3  b4  0.980134  0.752439  3.729060  3.030402      0\n",
       "3  a0  b1  b2  b3  b4  0.785974  3.495204  2.229013  2.792165      0\n",
       "4  b0  a1  b2  a3  a4  0.486634  3.712954  2.377462  5.639110      0"
      ]
     },
     "execution_count": 4,
     "metadata": {},
     "output_type": "execute_result"
    }
   ],
   "source": [
    "df.head()"
   ]
  },
  {
   "cell_type": "code",
   "execution_count": 5,
   "metadata": {
    "collapsed": true
   },
   "outputs": [],
   "source": [
    "from sklearn.tree import DecisionTreeClassifier\n",
    "from sklearn import tree\n",
    "from sklearn.linear_model import LogisticRegression"
   ]
  },
  {
   "cell_type": "code",
   "execution_count": 6,
   "metadata": {
    "collapsed": false
   },
   "outputs": [],
   "source": [
    "y = df.label\n",
    "X = np.array(df.drop(['label'], axis=1))\n"
   ]
  },
  {
   "cell_type": "code",
   "execution_count": 7,
   "metadata": {
    "collapsed": false
   },
   "outputs": [],
   "source": [
    "def to_cat(x):\n",
    "    if isinstance(x, str):\n",
    "        if (x[0] == 'a'): \n",
    "            return float(0) \n",
    "        else: return float(1)\n",
    "    else: return x\n",
    "\n",
    "X = np.vectorize(to_cat)(X)"
   ]
  },
  {
   "cell_type": "code",
   "execution_count": 8,
   "metadata": {
    "collapsed": false
   },
   "outputs": [],
   "source": [
    "dt = DecisionTreeClassifier(min_samples_leaf=50)"
   ]
  },
  {
   "cell_type": "code",
   "execution_count": 9,
   "metadata": {
    "collapsed": false
   },
   "outputs": [
    {
     "data": {
      "text/plain": [
       "DecisionTreeClassifier(class_weight=None, criterion='gini', max_depth=None,\n",
       "            max_features=None, max_leaf_nodes=None, min_samples_leaf=50,\n",
       "            min_samples_split=2, min_weight_fraction_leaf=0.0,\n",
       "            presort=False, random_state=None, splitter='best')"
      ]
     },
     "execution_count": 9,
     "metadata": {},
     "output_type": "execute_result"
    }
   ],
   "source": [
    "dt.fit(X,y)"
   ]
  },
  {
   "cell_type": "code",
   "execution_count": 10,
   "metadata": {
    "collapsed": false
   },
   "outputs": [],
   "source": [
    "from sklearn.externals.six import StringIO\n",
    "with open(\"tree.dot\", 'w') as f:\n",
    "     f = tree.export_graphviz(dt, out_file=f)"
   ]
  },
  {
   "cell_type": "code",
   "execution_count": null,
   "metadata": {
    "collapsed": true
   },
   "outputs": [],
   "source": []
  }
 ],
 "metadata": {
  "kernelspec": {
   "display_name": "Python 3",
   "language": "python",
   "name": "python3"
  },
  "language_info": {
   "codemirror_mode": {
    "name": "ipython",
    "version": 3
   },
   "file_extension": ".py",
   "mimetype": "text/x-python",
   "name": "python",
   "nbconvert_exporter": "python",
   "pygments_lexer": "ipython3",
   "version": "3.5.1"
  }
 },
 "nbformat": 4,
 "nbformat_minor": 0
}
